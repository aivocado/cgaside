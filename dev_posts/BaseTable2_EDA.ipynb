{
 "cells": [
  {
   "cell_type": "code",
   "execution_count": 4,
   "id": "b31cee5d",
   "metadata": {},
   "outputs": [],
   "source": [
    "import pandas as pd\n",
    "import numpy as np\n",
    "\n",
    "import seaborn as sns\n",
    "import matplotlib.pyplot as plt\n",
    "import matplotlib.font_manager as fm\n",
    "from matplotlib import rc\n",
    "%matplotlib inline"
   ]
  },
  {
   "cell_type": "code",
   "execution_count": null,
   "id": "457d303f",
   "metadata": {},
   "outputs": [
    {
     "name": "stderr",
     "output_type": "stream",
     "text": [
      "/var/folders/fs/zfypqyv96hs22x794hfx0ycm0000gn/T/ipykernel_40827/2812542215.py:1: DtypeWarning: Columns (4,5,13,16,17,18,19,24) have mixed types. Specify dtype option on import or set low_memory=False.\n",
      "  df = pd.read_csv('BaseTable_2.csv')\n"
     ]
    }
   ],
   "source": [
    "df = pd.read_csv('/Users/limdonggeon/Desktop/KPMG/Work/Law/data/BaseTable_2.csv')"
   ]
  },
  {
   "cell_type": "code",
   "execution_count": null,
   "id": "591aaf77",
   "metadata": {},
   "outputs": [
    {
     "name": "stdout",
     "output_type": "stream",
     "text": [
      "<class 'pandas.core.frame.DataFrame'>\n",
      "RangeIndex: 861624 entries, 0 to 861623\n",
      "Data columns (total 25 columns):\n",
      " #   Column     Non-Null Count   Dtype  \n",
      "---  ------     --------------   -----  \n",
      " 0   소관부처명      861624 non-null  object \n",
      " 1   법령명        861624 non-null  object \n",
      " 2   법령구분       861624 non-null  int64  \n",
      " 3   조번호        861043 non-null  object \n",
      " 4   항번호        666511 non-null  object \n",
      " 5   호번호        504874 non-null  object \n",
      " 6   조문제목       861624 non-null  object \n",
      " 7   조문         861624 non-null  object \n",
      " 8   사무판단       861624 non-null  int64  \n",
      " 9   사무판단근거     700810 non-null  object \n",
      " 10  사무명        60068 non-null   object \n",
      " 11  수행주체       60069 non-null   object \n",
      " 12  사무유형       60026 non-null   object \n",
      " 13  위임사무판단     761044 non-null  object \n",
      " 14  위임근거규정     5292 non-null    object \n",
      " 15  수임기관       4398 non-null    object \n",
      " 16  특행기관       93064 non-null   object \n",
      " 17  재위임사무판단    702426 non-null  object \n",
      " 18  재위임근거규정    53 non-null      object \n",
      " 19  재수임기관      13 non-null      object \n",
      " 20  위탁사무판단     758608 non-null  float64\n",
      " 21  위탁근거규정     3970 non-null    object \n",
      " 22  수탁기관       3943 non-null    object \n",
      " 23  사무유형(소분류)  60026 non-null   object \n",
      " 24  기타         3 non-null       object \n",
      "dtypes: float64(1), int64(2), object(22)\n",
      "memory usage: 164.3+ MB\n"
     ]
    }
   ],
   "source": [
    "df.info()"
   ]
  },
  {
   "cell_type": "markdown",
   "id": "15a746fb",
   "metadata": {},
   "source": [
    "## 1. 사무판단 개수 파악"
   ]
  },
  {
   "cell_type": "code",
   "execution_count": null,
   "id": "fdde9bbc",
   "metadata": {},
   "outputs": [
    {
     "data": {
      "text/plain": [
       "array([0, 1, 2])"
      ]
     },
     "execution_count": 4,
     "metadata": {},
     "output_type": "execute_result"
    }
   ],
   "source": [
    "df['사무판단'].unique()"
   ]
  },
  {
   "cell_type": "code",
   "execution_count": null,
   "id": "9f71718f",
   "metadata": {},
   "outputs": [
    {
     "name": "stdout",
     "output_type": "stream",
     "text": [
      "93.03338811360872 6.966263706674837\n"
     ]
    }
   ],
   "source": [
    "# 개수 파악\n",
    "N = len(df)\n",
    "ratio_0 = (len(df[df['사무판단'] == 0]))/N *100\n",
    "ratio_1 = (len(df[df['사무판단'] == 1]))/N *100\n",
    "\n",
    "print(ratio_0,ratio_1)"
   ]
  },
  {
   "cell_type": "code",
   "execution_count": null,
   "id": "1db96412",
   "metadata": {},
   "outputs": [
    {
     "data": {
      "image/png": "[encoded data removed]",
      "text/plain": [
       "<Figure size 640x480 with 1 Axes>"
      ]
     },
     "metadata": {},
     "output_type": "display_data"
    }
   ],
   "source": [
    "rc('font', family='AppleGothic')\n",
    "plt.rcParams['axes.unicode_minus'] = False\n",
    "\n",
    "ratio = [ratio_0, ratio_1]\n",
    "labels = [0,1]\n",
    "explode = [0, 0.10]\n",
    "\n",
    "#define Seaborn color palette to use\n",
    "colors = sns.color_palette('pastel')[3:5]\n",
    "\n",
    "#create pie chart\n",
    "plt.pie(ratio, colors = colors, autopct='%.0f%%', startangle= 120, explode=explode)\n",
    "plt.legend(['사무가 아니다', '사무이다'], bbox_to_anchor=(1.3, 1))\n",
    "plt.title('\\n\\n\\n')\n",
    "plt.show()\n"
   ]
  },
  {
   "cell_type": "markdown",
   "id": "805760df",
   "metadata": {},
   "source": [
    "## 2. 소관부처명에 따른 사무판단"
   ]
  },
  {
   "cell_type": "code",
   "execution_count": null,
   "id": "7116d572",
   "metadata": {},
   "outputs": [
    {
     "data": {
      "text/plain": [
       "array(['개인정보보호위원회', '경찰청,대검찰청,법무부', '경찰청,해양경찰청', '경찰청',\n",
       "       '경찰청,교육부,국토교통부,보건복지부', '경찰청,법무부', '고용노동부', '고용노동부,여성가족부',\n",
       "       '공정거래위원회', '과학기술정보통신부', '과학기술정보통신부,방송통신위원회', '과학기술정보통신부,법무부',\n",
       "       '과학기술정보통신부, 방송통신위원회', '교육부', '고용노동부,교육부', '교육부,행정안전부',\n",
       "       '교육부,문화체육관광부', '과학기술정보통신부,교육부', '국가보훈처', '국가안보실', '국가정보원',\n",
       "       '국가정보원,국무조정실', '국무조정실', '국무조정실,해양수산부', '가습기살균제사건과4.16세월호참사특별조사위원회',\n",
       "       '국무총리비서실', '국민권익위원회', '국방부', '국방부,병무청', '국방부,행정안전부',\n",
       "       '5.18민주화운동진상규명조사위원회', '국방부,방위사업청', '국방부,법무부', '국방부,방위사업청,산업통상자원부',\n",
       "       '교육부,국방부', '국토교통부', '국토교통부,산업통상자원부', '환경부', '국토교통부,해양수산부',\n",
       "       '국토교통부,환경부', '국토교통부,법무부', '국토교통부,행정중심복합도시건설청', '금융위원회',\n",
       "       '금융위원회,법무부', '기상청', '기획재정부', '기획재정부,행정안전부', '농림축산식품부',\n",
       "       '농림축산식품부,해양수산부', '농림축산식품부,농촌진흥청', '농림축산식품부,식품의약품안전처,해양수산부',\n",
       "       '농촌진흥청', '대통령경호처', '대통령실', '문화재청', '문화체육관광부', '방송통신위원회', '법무부',\n",
       "       '고용노동부,공정거래위원회,국토교통부,법무부,산업통상자원부,환경부', '행정안전부', '보건복지부', '법제처',\n",
       "       '보건복지부,질병관리청', '보건복지부,식품의약품안전처', '국토교통부,보건복지부',\n",
       "       '과학기술정보통신부,보건복지부,산업통상자원부', '경찰청,보건복지부', '질병관리청', '산림청', '산림청,환경부',\n",
       "       '산업통상자원부', '기획재정부,산업통상자원부', '국방부,산업통상자원부', '고용노동부,산업통상자원부',\n",
       "       '산업통상자원부,외교부', '소방청', '식품의약품안전처', '여성가족부', '여권과', '재외동포과',\n",
       "       '영사서비스과', '혁신행정담당관실', '외교사절담당관실', '국제법규과', '개발협력과', '다자협력인도지원과',\n",
       "       '유엔과', '개발전략과', '인사제도팀', '연구행정과', '공공외교총괄과', '재외공관담당관실',\n",
       "       '운영지원담당관실', '의전행사담당관실', '문화교류협력과', '외교사료팀', '한아프리카재단', '재외국민보호과',\n",
       "       '원자력안전위원회', '인사혁신처', '기획재정부,조달청', '조달청', '중소벤처기업부', '통계청',\n",
       "       '기획재정부,통계청', '통일부', '특허청', '해양경찰청', '법무부,해양경찰청', '국민안전처,해양경찰청',\n",
       "       '해양수산부', '산업통상자원부,해양수산부', '친일반민족행위진상규명위원회', '진실화해를위한과거사정리위원회',\n",
       "       '인사혁신처,행정안전부', '법제처,행정안전부', '소방청,해양경찰청,행정안전부', '국토교통부,행정안전부',\n",
       "       '해양수산부,환경부', '국무조정실,환경부', '국무조정실,기획재정부,환경부', '문화재청,환경부'],\n",
       "      dtype=object)"
      ]
     },
     "execution_count": 34,
     "metadata": {},
     "output_type": "execute_result"
    }
   ],
   "source": [
    "df['소관부처명'].unique()"
   ]
  },
  {
   "cell_type": "code",
   "execution_count": null,
   "id": "35071c91",
   "metadata": {},
   "outputs": [],
   "source": [
    "def law_work_count(i):\n",
    "    a = len(df.loc[(df['소관부처명']==i) & (df['사무판단']==0), ])\n",
    "    b = len(df.loc[(df['소관부처명']==i) & (df['사무판단']==1), ])\n",
    "\n",
    "    #print(f\"소관부처 {i}일때 ========\")\n",
    "    #print(f\"사무x: {a}\")\n",
    "    #print(f\"사무O: {b}\")\n",
    "    \n",
    "    result = [b, a, i]\n",
    "    return result"
   ]
  },
  {
   "cell_type": "code",
   "execution_count": null,
   "id": "3d62655c",
   "metadata": {},
   "outputs": [],
   "source": [
    "result = []\n",
    "for i in df['소관부처명'].unique():\n",
    "    result.append(law_work_count(i))"
   ]
  },
  {
   "cell_type": "code",
   "execution_count": null,
   "id": "2a242b1f",
   "metadata": {},
   "outputs": [],
   "source": [
    "result.sort(key=lambda x:x[0], reverse = True)"
   ]
  },
  {
   "cell_type": "code",
   "execution_count": null,
   "id": "ae2afdbe",
   "metadata": {},
   "outputs": [
    {
     "data": {
      "text/plain": [
       "[[5496, 51473, '환경부'],\n",
       " [5266, 108493, '국토교통부'],\n",
       " [4684, 50751, '행정안전부'],\n",
       " [3922, 45776, '산업통상자원부'],\n",
       " [3730, 42779, '보건복지부'],\n",
       " [3643, 54249, '해양수산부'],\n",
       " [2933, 47704, '기획재정부'],\n",
       " [2342, 23501, '농림축산식품부'],\n",
       " [2331, 25350, '교육부'],\n",
       " [1946, 21453, '과학기술정보통신부']]"
      ]
     },
     "execution_count": 52,
     "metadata": {},
     "output_type": "execute_result"
    }
   ],
   "source": [
    "result[:10]"
   ]
  },
  {
   "cell_type": "code",
   "execution_count": null,
   "id": "66d7ac94",
   "metadata": {},
   "outputs": [],
   "source": [
    "task_num_by_department = []\n",
    "department = []\n",
    "for i in range(len(result)):\n",
    "    task_num_by_department.append(result[i][0])\n",
    "    department.append(result[i][2])"
   ]
  },
  {
   "cell_type": "code",
   "execution_count": null,
   "id": "94c869ff",
   "metadata": {
    "scrolled": true
   },
   "outputs": [
    {
     "data": {
      "image/png": "[encoded data removed]",
      "text/plain": [
       "<Figure size 500x300 with 1 Axes>"
      ]
     },
     "metadata": {},
     "output_type": "display_data"
    }
   ],
   "source": [
    "fig, ax = plt.subplots(figsize=(5, 3))\n",
    "colors = sns.color_palette('pastel')[4]\n",
    "#plt.scatter(range(len(result)),task_num_by_department,marker = '.')\n",
    "plt.bar(range(len(task_num_by_department)), task_num_by_department, color=colors)\n",
    "plt.title('\\n\\n\\n 소관부처별 사무판단 개수 파악\\n')\n",
    "plt.ylabel('개수')\n",
    "plt.xlim([-1,len(task_num_by_department)])\n",
    "plt.xticks([])\n",
    "plt.ylim([0,6000]);\n",
    "plt.yticks(np.arange(0, 6000, step=1000));"
   ]
  },
  {
   "cell_type": "code",
   "execution_count": null,
   "id": "76258854",
   "metadata": {},
   "outputs": [
    {
     "data": {
      "text/plain": [
       "[[5496, 51473, '환경부'],\n",
       " [5266, 108493, '국토교통부'],\n",
       " [4684, 50751, '행정안전부'],\n",
       " [3922, 45776, '산업통상자원부'],\n",
       " [3730, 42779, '보건복지부'],\n",
       " [3643, 54249, '해양수산부'],\n",
       " [2933, 47704, '기획재정부'],\n",
       " [2342, 23501, '농림축산식품부'],\n",
       " [2331, 25350, '교육부'],\n",
       " [1946, 21453, '과학기술정보통신부']]"
      ]
     },
     "execution_count": 70,
     "metadata": {},
     "output_type": "execute_result"
    }
   ],
   "source": [
    "result[:10]"
   ]
  },
  {
   "cell_type": "markdown",
   "id": "96e5e104",
   "metadata": {},
   "source": [
    "## 3. 법령에 따른 사무판단"
   ]
  },
  {
   "cell_type": "code",
   "execution_count": null,
   "id": "e7b39e16",
   "metadata": {},
   "outputs": [
    {
     "data": {
      "text/plain": [
       "array([1, 2, 3])"
      ]
     },
     "execution_count": 10,
     "metadata": {},
     "output_type": "execute_result"
    }
   ],
   "source": [
    "df['법령구분'].unique()"
   ]
  },
  {
   "cell_type": "code",
   "execution_count": null,
   "id": "3a5ee62b",
   "metadata": {},
   "outputs": [
    {
     "data": {
      "text/plain": [
       "array([0, 1, 2])"
      ]
     },
     "execution_count": 11,
     "metadata": {},
     "output_type": "execute_result"
    }
   ],
   "source": [
    "df['사무판단'].unique()"
   ]
  },
  {
   "cell_type": "code",
   "execution_count": null,
   "id": "6dd744c1",
   "metadata": {},
   "outputs": [],
   "source": [
    "groups = ['1', '2', '3']\n",
    "values1 = [len(df.loc[(df['법령구분']==1) & (df['사무판단']==0), ]), len(df.loc[(df['법령구분']==2) & (df['사무판단']==0), ]), len(df.loc[(df['법령구분']==3) & (df['사무판단']==0), ])]\n",
    "values2 = [len(df.loc[(df['법령구분']==1) & (df['사무판단']==1), ]), len(df.loc[(df['법령구분']==2) & (df['사무판단']==1), ]), len(df.loc[(df['법령구분']==3) & (df['사무판단']==1), ])]"
   ]
  },
  {
   "cell_type": "code",
   "execution_count": null,
   "id": "ae3fccbb",
   "metadata": {},
   "outputs": [
    {
     "data": {
      "image/png": "[encoded data removed]",
      "text/plain": [
       "<Figure size 300x500 with 1 Axes>"
      ]
     },
     "metadata": {},
     "output_type": "display_data"
    }
   ],
   "source": [
    "fig, ax = plt.subplots(figsize=(3, 5))\n",
    "colors = sns.color_palette('pastel')[3:5]\n",
    "\n",
    "# stack bar 로 구성\n",
    "ax.bar(groups, values1, color = colors[0])\n",
    "ax.bar(groups, values2, bottom = values1, color = colors[1])\n",
    "plt.title('법령구분에 따른 사무판단 여부 파악\\n\\n')\n",
    "plt.xlabel('법령구분')\n",
    "plt.ylabel('개수')\n",
    "plt.legend(['사무가 아니다', '사무이다'], bbox_to_anchor=(1.7, 1))\n",
    "plt.ylim([0,450000])\n",
    "plt.yticks(np.arange(0, 500000, step=100000))\n",
    "plt.show()"
   ]
  },
  {
   "cell_type": "code",
   "execution_count": null,
   "id": "55bf58e3",
   "metadata": {},
   "outputs": [],
   "source": [
    "# def law_work_count(i):\n",
    "#     a = len(df.loc[(df['법령구분']==i) & (df['사무판단']==0), ])\n",
    "#     b = len(df.loc[(df['법령구분']==i) & (df['사무판단']==1), ])\n",
    "#     c = len(df.loc[(df['법령구분']==i) & (df['사무판단']==2), ])\n",
    "\n",
    "#     print(f\"법령 구분 {i}일때 ========\")\n",
    "#     print(f\"사무x: {a}\")\n",
    "#     print(f\"사무O: {b}\")\n",
    "#     print(f\"애매: {c}\")\n",
    "    \n",
    "\n",
    "#     result = [a, b, c]\n",
    "#     return result"
   ]
  },
  {
   "cell_type": "code",
   "execution_count": null,
   "id": "581ee58d",
   "metadata": {},
   "outputs": [],
   "source": [
    "# result = []\n",
    "# for i in range(1, 4):\n",
    "#     result.append(law_work_count(i))\n",
    "# result"
   ]
  },
  {
   "cell_type": "code",
   "execution_count": null,
   "id": "c4deccca",
   "metadata": {},
   "outputs": [],
   "source": [
    "# # 법령 구분에 따른 사무판단 비율 계산\n",
    "# ratio_df = df.groupby(['법령구분', '사무판단']).size().unstack().T\n",
    "# ratio_df = ratio_df.div(ratio_df.sum(axis=1), axis=0)\n",
    "\n",
    "# # 비율을 시각화\n",
    "# ratio_df.T.plot(kind='bar', stacked=True)\n",
    "# plt.title('법령구분에 따른 사무판단 비율')\n",
    "# plt.xlabel('법령구분')\n",
    "# plt.ylabel('Administrative Decision')\n",
    "# plt.show()"
   ]
  },
  {
   "cell_type": "code",
   "execution_count": null,
   "id": "72bc43b9",
   "metadata": {},
   "outputs": [],
   "source": []
  }
 ],
 "metadata": {
  "kernelspec": {
   "display_name": "Python 3 (ipykernel)",
   "language": "python",
   "name": "python3"
  },
  "language_info": {
   "codemirror_mode": {
    "name": "ipython",
    "version": 3
   },
   "file_extension": ".py",
   "mimetype": "text/x-python",
   "name": "python",
   "nbconvert_exporter": "python",
   "pygments_lexer": "ipython3",
   "version": "3.9.6"
  }
 },
 "nbformat": 4,
 "nbformat_minor": 5
}
